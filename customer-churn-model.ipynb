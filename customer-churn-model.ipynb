{
 "cells": [
  {
   "cell_type": "markdown",
   "id": "cbc6a240",
   "metadata": {
    "_cell_guid": "b1076dfc-b9ad-4769-8c92-a6c4dae69d19",
    "_uuid": "8f2839f25d086af736a60e9eeb907d3b93b6e0e5",
    "papermill": {
     "duration": 0.005504,
     "end_time": "2022-11-04T09:26:18.968830",
     "exception": false,
     "start_time": "2022-11-04T09:26:18.963326",
     "status": "completed"
    },
    "tags": []
   },
   "source": [
    "# Description 📞\n",
    "> Making a machine learning project to find whether the customer will stay or churn (data is from Telecom Industry)\n",
    "# Data Source : \n",
    "> Data is from Kaggle (https://www.kaggle.com/datasets/barun2104/telecom-churn)\n",
    "# Goal :\n",
    "> The goal of the project is to make a real time website that calculates customer churn in telecom industry using Machine learning, Python and Flask.\n"
   ]
  },
  {
   "cell_type": "code",
   "execution_count": 1,
   "id": "e3baca9e",
   "metadata": {
    "execution": {
     "iopub.execute_input": "2022-11-04T09:26:18.979902Z",
     "iopub.status.busy": "2022-11-04T09:26:18.979104Z",
     "iopub.status.idle": "2022-11-04T09:26:20.052854Z",
     "shell.execute_reply": "2022-11-04T09:26:20.051569Z"
    },
    "papermill": {
     "duration": 1.082792,
     "end_time": "2022-11-04T09:26:20.056101",
     "exception": false,
     "start_time": "2022-11-04T09:26:18.973309",
     "status": "completed"
    },
    "tags": []
   },
   "outputs": [],
   "source": [
    "import pandas as pd\n",
    "import numpy as np\n",
    "import matplotlib.pyplot as plt\n",
    "from sklearn.model_selection import train_test_split"
   ]
  },
  {
   "cell_type": "code",
   "execution_count": 2,
   "id": "6fa8d157",
   "metadata": {
    "execution": {
     "iopub.execute_input": "2022-11-04T09:26:20.070349Z",
     "iopub.status.busy": "2022-11-04T09:26:20.069774Z",
     "iopub.status.idle": "2022-11-04T09:26:20.098191Z",
     "shell.execute_reply": "2022-11-04T09:26:20.096967Z"
    },
    "papermill": {
     "duration": 0.036924,
     "end_time": "2022-11-04T09:26:20.100665",
     "exception": false,
     "start_time": "2022-11-04T09:26:20.063741",
     "status": "completed"
    },
    "tags": []
   },
   "outputs": [],
   "source": [
    "data=pd.read_csv('../input/telecom-churn/telecom_churn.csv',low_memory=False)"
   ]
  },
  {
   "cell_type": "code",
   "execution_count": 3,
   "id": "d88c0fd9",
   "metadata": {
    "execution": {
     "iopub.execute_input": "2022-11-04T09:26:20.111588Z",
     "iopub.status.busy": "2022-11-04T09:26:20.111196Z",
     "iopub.status.idle": "2022-11-04T09:26:20.136849Z",
     "shell.execute_reply": "2022-11-04T09:26:20.135970Z"
    },
    "papermill": {
     "duration": 0.03407,
     "end_time": "2022-11-04T09:26:20.139375",
     "exception": false,
     "start_time": "2022-11-04T09:26:20.105305",
     "status": "completed"
    },
    "tags": []
   },
   "outputs": [
    {
     "data": {
      "text/html": [
       "<div>\n",
       "<style scoped>\n",
       "    .dataframe tbody tr th:only-of-type {\n",
       "        vertical-align: middle;\n",
       "    }\n",
       "\n",
       "    .dataframe tbody tr th {\n",
       "        vertical-align: top;\n",
       "    }\n",
       "\n",
       "    .dataframe thead th {\n",
       "        text-align: right;\n",
       "    }\n",
       "</style>\n",
       "<table border=\"1\" class=\"dataframe\">\n",
       "  <thead>\n",
       "    <tr style=\"text-align: right;\">\n",
       "      <th></th>\n",
       "      <th>0</th>\n",
       "      <th>1</th>\n",
       "      <th>2</th>\n",
       "      <th>3</th>\n",
       "      <th>4</th>\n",
       "    </tr>\n",
       "  </thead>\n",
       "  <tbody>\n",
       "    <tr>\n",
       "      <th>Churn</th>\n",
       "      <td>0.00</td>\n",
       "      <td>0.00</td>\n",
       "      <td>0.00</td>\n",
       "      <td>0.0</td>\n",
       "      <td>0.00</td>\n",
       "    </tr>\n",
       "    <tr>\n",
       "      <th>AccountWeeks</th>\n",
       "      <td>128.00</td>\n",
       "      <td>107.00</td>\n",
       "      <td>137.00</td>\n",
       "      <td>84.0</td>\n",
       "      <td>75.00</td>\n",
       "    </tr>\n",
       "    <tr>\n",
       "      <th>ContractRenewal</th>\n",
       "      <td>1.00</td>\n",
       "      <td>1.00</td>\n",
       "      <td>1.00</td>\n",
       "      <td>0.0</td>\n",
       "      <td>0.00</td>\n",
       "    </tr>\n",
       "    <tr>\n",
       "      <th>DataPlan</th>\n",
       "      <td>1.00</td>\n",
       "      <td>1.00</td>\n",
       "      <td>0.00</td>\n",
       "      <td>0.0</td>\n",
       "      <td>0.00</td>\n",
       "    </tr>\n",
       "    <tr>\n",
       "      <th>DataUsage</th>\n",
       "      <td>2.70</td>\n",
       "      <td>3.70</td>\n",
       "      <td>0.00</td>\n",
       "      <td>0.0</td>\n",
       "      <td>0.00</td>\n",
       "    </tr>\n",
       "    <tr>\n",
       "      <th>CustServCalls</th>\n",
       "      <td>1.00</td>\n",
       "      <td>1.00</td>\n",
       "      <td>0.00</td>\n",
       "      <td>2.0</td>\n",
       "      <td>3.00</td>\n",
       "    </tr>\n",
       "    <tr>\n",
       "      <th>DayMins</th>\n",
       "      <td>265.10</td>\n",
       "      <td>161.60</td>\n",
       "      <td>243.40</td>\n",
       "      <td>299.4</td>\n",
       "      <td>166.70</td>\n",
       "    </tr>\n",
       "    <tr>\n",
       "      <th>DayCalls</th>\n",
       "      <td>110.00</td>\n",
       "      <td>123.00</td>\n",
       "      <td>114.00</td>\n",
       "      <td>71.0</td>\n",
       "      <td>113.00</td>\n",
       "    </tr>\n",
       "    <tr>\n",
       "      <th>MonthlyCharge</th>\n",
       "      <td>89.00</td>\n",
       "      <td>82.00</td>\n",
       "      <td>52.00</td>\n",
       "      <td>57.0</td>\n",
       "      <td>41.00</td>\n",
       "    </tr>\n",
       "    <tr>\n",
       "      <th>OverageFee</th>\n",
       "      <td>9.87</td>\n",
       "      <td>9.78</td>\n",
       "      <td>6.06</td>\n",
       "      <td>3.1</td>\n",
       "      <td>7.42</td>\n",
       "    </tr>\n",
       "    <tr>\n",
       "      <th>RoamMins</th>\n",
       "      <td>10.00</td>\n",
       "      <td>13.70</td>\n",
       "      <td>12.20</td>\n",
       "      <td>6.6</td>\n",
       "      <td>10.10</td>\n",
       "    </tr>\n",
       "  </tbody>\n",
       "</table>\n",
       "</div>"
      ],
      "text/plain": [
       "                      0       1       2      3       4\n",
       "Churn              0.00    0.00    0.00    0.0    0.00\n",
       "AccountWeeks     128.00  107.00  137.00   84.0   75.00\n",
       "ContractRenewal    1.00    1.00    1.00    0.0    0.00\n",
       "DataPlan           1.00    1.00    0.00    0.0    0.00\n",
       "DataUsage          2.70    3.70    0.00    0.0    0.00\n",
       "CustServCalls      1.00    1.00    0.00    2.0    3.00\n",
       "DayMins          265.10  161.60  243.40  299.4  166.70\n",
       "DayCalls         110.00  123.00  114.00   71.0  113.00\n",
       "MonthlyCharge     89.00   82.00   52.00   57.0   41.00\n",
       "OverageFee         9.87    9.78    6.06    3.1    7.42\n",
       "RoamMins          10.00   13.70   12.20    6.6   10.10"
      ]
     },
     "execution_count": 3,
     "metadata": {},
     "output_type": "execute_result"
    }
   ],
   "source": [
    "data.head().T"
   ]
  },
  {
   "cell_type": "code",
   "execution_count": 4,
   "id": "e9ec22ee",
   "metadata": {
    "execution": {
     "iopub.execute_input": "2022-11-04T09:26:20.151154Z",
     "iopub.status.busy": "2022-11-04T09:26:20.150712Z",
     "iopub.status.idle": "2022-11-04T09:26:20.158907Z",
     "shell.execute_reply": "2022-11-04T09:26:20.157830Z"
    },
    "papermill": {
     "duration": 0.016773,
     "end_time": "2022-11-04T09:26:20.161161",
     "exception": false,
     "start_time": "2022-11-04T09:26:20.144388",
     "status": "completed"
    },
    "tags": []
   },
   "outputs": [
    {
     "data": {
      "text/plain": [
       "Churn                int64\n",
       "AccountWeeks         int64\n",
       "ContractRenewal      int64\n",
       "DataPlan             int64\n",
       "DataUsage          float64\n",
       "CustServCalls        int64\n",
       "DayMins            float64\n",
       "DayCalls             int64\n",
       "MonthlyCharge      float64\n",
       "OverageFee         float64\n",
       "RoamMins           float64\n",
       "dtype: object"
      ]
     },
     "execution_count": 4,
     "metadata": {},
     "output_type": "execute_result"
    }
   ],
   "source": [
    "data.dtypes"
   ]
  },
  {
   "cell_type": "code",
   "execution_count": 5,
   "id": "a680f9ce",
   "metadata": {
    "execution": {
     "iopub.execute_input": "2022-11-04T09:26:20.172606Z",
     "iopub.status.busy": "2022-11-04T09:26:20.172197Z",
     "iopub.status.idle": "2022-11-04T09:26:20.195959Z",
     "shell.execute_reply": "2022-11-04T09:26:20.194497Z"
    },
    "papermill": {
     "duration": 0.03237,
     "end_time": "2022-11-04T09:26:20.198493",
     "exception": false,
     "start_time": "2022-11-04T09:26:20.166123",
     "status": "completed"
    },
    "tags": []
   },
   "outputs": [
    {
     "name": "stdout",
     "output_type": "stream",
     "text": [
      "<class 'pandas.core.frame.DataFrame'>\n",
      "RangeIndex: 3333 entries, 0 to 3332\n",
      "Data columns (total 11 columns):\n",
      " #   Column           Non-Null Count  Dtype  \n",
      "---  ------           --------------  -----  \n",
      " 0   Churn            3333 non-null   int64  \n",
      " 1   AccountWeeks     3333 non-null   int64  \n",
      " 2   ContractRenewal  3333 non-null   int64  \n",
      " 3   DataPlan         3333 non-null   int64  \n",
      " 4   DataUsage        3333 non-null   float64\n",
      " 5   CustServCalls    3333 non-null   int64  \n",
      " 6   DayMins          3333 non-null   float64\n",
      " 7   DayCalls         3333 non-null   int64  \n",
      " 8   MonthlyCharge    3333 non-null   float64\n",
      " 9   OverageFee       3333 non-null   float64\n",
      " 10  RoamMins         3333 non-null   float64\n",
      "dtypes: float64(5), int64(6)\n",
      "memory usage: 286.6 KB\n"
     ]
    }
   ],
   "source": [
    "data.info()"
   ]
  },
  {
   "cell_type": "markdown",
   "id": "d930bf35",
   "metadata": {
    "papermill": {
     "duration": 0.004745,
     "end_time": "2022-11-04T09:26:20.208455",
     "exception": false,
     "start_time": "2022-11-04T09:26:20.203710",
     "status": "completed"
    },
    "tags": []
   },
   "source": [
    "### Checking % of Null data in the dataset"
   ]
  },
  {
   "cell_type": "code",
   "execution_count": 6,
   "id": "e6ab5377",
   "metadata": {
    "execution": {
     "iopub.execute_input": "2022-11-04T09:26:20.220200Z",
     "iopub.status.busy": "2022-11-04T09:26:20.219781Z",
     "iopub.status.idle": "2022-11-04T09:26:20.229044Z",
     "shell.execute_reply": "2022-11-04T09:26:20.228239Z"
    },
    "papermill": {
     "duration": 0.017875,
     "end_time": "2022-11-04T09:26:20.231218",
     "exception": false,
     "start_time": "2022-11-04T09:26:20.213343",
     "status": "completed"
    },
    "tags": []
   },
   "outputs": [
    {
     "data": {
      "text/plain": [
       "Churn              0.0\n",
       "AccountWeeks       0.0\n",
       "ContractRenewal    0.0\n",
       "DataPlan           0.0\n",
       "DataUsage          0.0\n",
       "CustServCalls      0.0\n",
       "DayMins            0.0\n",
       "DayCalls           0.0\n",
       "MonthlyCharge      0.0\n",
       "OverageFee         0.0\n",
       "RoamMins           0.0\n",
       "dtype: float64"
      ]
     },
     "execution_count": 6,
     "metadata": {},
     "output_type": "execute_result"
    }
   ],
   "source": [
    "data.isna().sum()*100/len(data)"
   ]
  },
  {
   "cell_type": "code",
   "execution_count": 7,
   "id": "f3291f98",
   "metadata": {
    "execution": {
     "iopub.execute_input": "2022-11-04T09:26:20.243569Z",
     "iopub.status.busy": "2022-11-04T09:26:20.242959Z",
     "iopub.status.idle": "2022-11-04T09:26:20.248398Z",
     "shell.execute_reply": "2022-11-04T09:26:20.247589Z"
    },
    "papermill": {
     "duration": 0.014201,
     "end_time": "2022-11-04T09:26:20.250607",
     "exception": false,
     "start_time": "2022-11-04T09:26:20.236406",
     "status": "completed"
    },
    "tags": []
   },
   "outputs": [
    {
     "data": {
      "text/plain": [
       "3333"
      ]
     },
     "execution_count": 7,
     "metadata": {},
     "output_type": "execute_result"
    }
   ],
   "source": [
    "len(data)"
   ]
  },
  {
   "cell_type": "markdown",
   "id": "cf6a91ce",
   "metadata": {
    "papermill": {
     "duration": 0.005457,
     "end_time": "2022-11-04T09:26:20.261310",
     "exception": false,
     "start_time": "2022-11-04T09:26:20.255853",
     "status": "completed"
    },
    "tags": []
   },
   "source": [
    "## Working on Outliers"
   ]
  },
  {
   "cell_type": "code",
   "execution_count": 8,
   "id": "96a43a3f",
   "metadata": {
    "execution": {
     "iopub.execute_input": "2022-11-04T09:26:20.273552Z",
     "iopub.status.busy": "2022-11-04T09:26:20.272916Z",
     "iopub.status.idle": "2022-11-04T09:26:20.307104Z",
     "shell.execute_reply": "2022-11-04T09:26:20.306207Z"
    },
    "papermill": {
     "duration": 0.042829,
     "end_time": "2022-11-04T09:26:20.309369",
     "exception": false,
     "start_time": "2022-11-04T09:26:20.266540",
     "status": "completed"
    },
    "tags": []
   },
   "outputs": [
    {
     "data": {
      "text/html": [
       "<div>\n",
       "<style scoped>\n",
       "    .dataframe tbody tr th:only-of-type {\n",
       "        vertical-align: middle;\n",
       "    }\n",
       "\n",
       "    .dataframe tbody tr th {\n",
       "        vertical-align: top;\n",
       "    }\n",
       "\n",
       "    .dataframe thead th {\n",
       "        text-align: right;\n",
       "    }\n",
       "</style>\n",
       "<table border=\"1\" class=\"dataframe\">\n",
       "  <thead>\n",
       "    <tr style=\"text-align: right;\">\n",
       "      <th></th>\n",
       "      <th>Churn</th>\n",
       "      <th>AccountWeeks</th>\n",
       "      <th>ContractRenewal</th>\n",
       "      <th>DataPlan</th>\n",
       "      <th>DataUsage</th>\n",
       "      <th>CustServCalls</th>\n",
       "      <th>DayMins</th>\n",
       "      <th>DayCalls</th>\n",
       "      <th>MonthlyCharge</th>\n",
       "      <th>OverageFee</th>\n",
       "      <th>RoamMins</th>\n",
       "    </tr>\n",
       "  </thead>\n",
       "  <tbody>\n",
       "    <tr>\n",
       "      <th>0</th>\n",
       "      <td>0</td>\n",
       "      <td>128</td>\n",
       "      <td>1</td>\n",
       "      <td>1</td>\n",
       "      <td>2.70</td>\n",
       "      <td>1</td>\n",
       "      <td>265.1</td>\n",
       "      <td>110</td>\n",
       "      <td>89.0</td>\n",
       "      <td>9.87</td>\n",
       "      <td>10.0</td>\n",
       "    </tr>\n",
       "    <tr>\n",
       "      <th>1</th>\n",
       "      <td>0</td>\n",
       "      <td>107</td>\n",
       "      <td>1</td>\n",
       "      <td>1</td>\n",
       "      <td>3.70</td>\n",
       "      <td>1</td>\n",
       "      <td>161.6</td>\n",
       "      <td>123</td>\n",
       "      <td>82.0</td>\n",
       "      <td>9.78</td>\n",
       "      <td>13.7</td>\n",
       "    </tr>\n",
       "    <tr>\n",
       "      <th>2</th>\n",
       "      <td>0</td>\n",
       "      <td>137</td>\n",
       "      <td>1</td>\n",
       "      <td>0</td>\n",
       "      <td>0.00</td>\n",
       "      <td>0</td>\n",
       "      <td>243.4</td>\n",
       "      <td>114</td>\n",
       "      <td>52.0</td>\n",
       "      <td>6.06</td>\n",
       "      <td>12.2</td>\n",
       "    </tr>\n",
       "    <tr>\n",
       "      <th>6</th>\n",
       "      <td>0</td>\n",
       "      <td>121</td>\n",
       "      <td>1</td>\n",
       "      <td>1</td>\n",
       "      <td>2.03</td>\n",
       "      <td>3</td>\n",
       "      <td>218.2</td>\n",
       "      <td>88</td>\n",
       "      <td>87.3</td>\n",
       "      <td>17.43</td>\n",
       "      <td>7.5</td>\n",
       "    </tr>\n",
       "    <tr>\n",
       "      <th>8</th>\n",
       "      <td>0</td>\n",
       "      <td>117</td>\n",
       "      <td>1</td>\n",
       "      <td>0</td>\n",
       "      <td>0.19</td>\n",
       "      <td>1</td>\n",
       "      <td>184.5</td>\n",
       "      <td>97</td>\n",
       "      <td>63.9</td>\n",
       "      <td>17.58</td>\n",
       "      <td>8.7</td>\n",
       "    </tr>\n",
       "    <tr>\n",
       "      <th>...</th>\n",
       "      <td>...</td>\n",
       "      <td>...</td>\n",
       "      <td>...</td>\n",
       "      <td>...</td>\n",
       "      <td>...</td>\n",
       "      <td>...</td>\n",
       "      <td>...</td>\n",
       "      <td>...</td>\n",
       "      <td>...</td>\n",
       "      <td>...</td>\n",
       "      <td>...</td>\n",
       "    </tr>\n",
       "    <tr>\n",
       "      <th>3327</th>\n",
       "      <td>0</td>\n",
       "      <td>79</td>\n",
       "      <td>1</td>\n",
       "      <td>0</td>\n",
       "      <td>0.00</td>\n",
       "      <td>2</td>\n",
       "      <td>134.7</td>\n",
       "      <td>98</td>\n",
       "      <td>40.0</td>\n",
       "      <td>9.49</td>\n",
       "      <td>11.8</td>\n",
       "    </tr>\n",
       "    <tr>\n",
       "      <th>3328</th>\n",
       "      <td>0</td>\n",
       "      <td>192</td>\n",
       "      <td>1</td>\n",
       "      <td>1</td>\n",
       "      <td>2.67</td>\n",
       "      <td>2</td>\n",
       "      <td>156.2</td>\n",
       "      <td>77</td>\n",
       "      <td>71.7</td>\n",
       "      <td>10.78</td>\n",
       "      <td>9.9</td>\n",
       "    </tr>\n",
       "    <tr>\n",
       "      <th>3329</th>\n",
       "      <td>0</td>\n",
       "      <td>68</td>\n",
       "      <td>1</td>\n",
       "      <td>0</td>\n",
       "      <td>0.34</td>\n",
       "      <td>3</td>\n",
       "      <td>231.1</td>\n",
       "      <td>57</td>\n",
       "      <td>56.4</td>\n",
       "      <td>7.67</td>\n",
       "      <td>9.6</td>\n",
       "    </tr>\n",
       "    <tr>\n",
       "      <th>3330</th>\n",
       "      <td>0</td>\n",
       "      <td>28</td>\n",
       "      <td>1</td>\n",
       "      <td>0</td>\n",
       "      <td>0.00</td>\n",
       "      <td>2</td>\n",
       "      <td>180.8</td>\n",
       "      <td>109</td>\n",
       "      <td>56.0</td>\n",
       "      <td>14.44</td>\n",
       "      <td>14.1</td>\n",
       "    </tr>\n",
       "    <tr>\n",
       "      <th>3332</th>\n",
       "      <td>0</td>\n",
       "      <td>74</td>\n",
       "      <td>1</td>\n",
       "      <td>1</td>\n",
       "      <td>3.70</td>\n",
       "      <td>0</td>\n",
       "      <td>234.4</td>\n",
       "      <td>113</td>\n",
       "      <td>100.0</td>\n",
       "      <td>13.30</td>\n",
       "      <td>13.7</td>\n",
       "    </tr>\n",
       "  </tbody>\n",
       "</table>\n",
       "<p>2919 rows × 11 columns</p>\n",
       "</div>"
      ],
      "text/plain": [
       "      Churn  AccountWeeks  ContractRenewal  DataPlan  DataUsage  \\\n",
       "0         0           128                1         1       2.70   \n",
       "1         0           107                1         1       3.70   \n",
       "2         0           137                1         0       0.00   \n",
       "6         0           121                1         1       2.03   \n",
       "8         0           117                1         0       0.19   \n",
       "...     ...           ...              ...       ...        ...   \n",
       "3327      0            79                1         0       0.00   \n",
       "3328      0           192                1         1       2.67   \n",
       "3329      0            68                1         0       0.34   \n",
       "3330      0            28                1         0       0.00   \n",
       "3332      0            74                1         1       3.70   \n",
       "\n",
       "      CustServCalls  DayMins  DayCalls  MonthlyCharge  OverageFee  RoamMins  \n",
       "0                 1    265.1       110           89.0        9.87      10.0  \n",
       "1                 1    161.6       123           82.0        9.78      13.7  \n",
       "2                 0    243.4       114           52.0        6.06      12.2  \n",
       "6                 3    218.2        88           87.3       17.43       7.5  \n",
       "8                 1    184.5        97           63.9       17.58       8.7  \n",
       "...             ...      ...       ...            ...         ...       ...  \n",
       "3327              2    134.7        98           40.0        9.49      11.8  \n",
       "3328              2    156.2        77           71.7       10.78       9.9  \n",
       "3329              3    231.1        57           56.4        7.67       9.6  \n",
       "3330              2    180.8       109           56.0       14.44      14.1  \n",
       "3332              0    234.4       113          100.0       13.30      13.7  \n",
       "\n",
       "[2919 rows x 11 columns]"
      ]
     },
     "execution_count": 8,
     "metadata": {},
     "output_type": "execute_result"
    }
   ],
   "source": [
    "from scipy import stats #using stats funcation from scipy\n",
    "data[(np.abs(stats.zscore(data))<3).all(axis=1)]\n",
    "\n",
    "#this removes all the outliers (values having a zscore of greater than 3 or -3) Used scipy for this"
   ]
  },
  {
   "cell_type": "code",
   "execution_count": 9,
   "id": "c8b18592",
   "metadata": {
    "execution": {
     "iopub.execute_input": "2022-11-04T09:26:20.323807Z",
     "iopub.status.busy": "2022-11-04T09:26:20.322493Z",
     "iopub.status.idle": "2022-11-04T09:26:20.335576Z",
     "shell.execute_reply": "2022-11-04T09:26:20.334006Z"
    },
    "papermill": {
     "duration": 0.02406,
     "end_time": "2022-11-04T09:26:20.339285",
     "exception": false,
     "start_time": "2022-11-04T09:26:20.315225",
     "status": "completed"
    },
    "tags": []
   },
   "outputs": [
    {
     "name": "stdout",
     "output_type": "stream",
     "text": [
      "<class 'pandas.core.frame.DataFrame'>\n",
      "RangeIndex: 3333 entries, 0 to 3332\n",
      "Data columns (total 11 columns):\n",
      " #   Column           Non-Null Count  Dtype  \n",
      "---  ------           --------------  -----  \n",
      " 0   Churn            3333 non-null   int64  \n",
      " 1   AccountWeeks     3333 non-null   int64  \n",
      " 2   ContractRenewal  3333 non-null   int64  \n",
      " 3   DataPlan         3333 non-null   int64  \n",
      " 4   DataUsage        3333 non-null   float64\n",
      " 5   CustServCalls    3333 non-null   int64  \n",
      " 6   DayMins          3333 non-null   float64\n",
      " 7   DayCalls         3333 non-null   int64  \n",
      " 8   MonthlyCharge    3333 non-null   float64\n",
      " 9   OverageFee       3333 non-null   float64\n",
      " 10  RoamMins         3333 non-null   float64\n",
      "dtypes: float64(5), int64(6)\n",
      "memory usage: 286.6 KB\n"
     ]
    }
   ],
   "source": [
    "data.info()"
   ]
  },
  {
   "cell_type": "code",
   "execution_count": 10,
   "id": "1dced175",
   "metadata": {
    "execution": {
     "iopub.execute_input": "2022-11-04T09:26:20.352639Z",
     "iopub.status.busy": "2022-11-04T09:26:20.352268Z",
     "iopub.status.idle": "2022-11-04T09:26:26.781676Z",
     "shell.execute_reply": "2022-11-04T09:26:26.780635Z"
    },
    "papermill": {
     "duration": 6.438921,
     "end_time": "2022-11-04T09:26:26.784271",
     "exception": false,
     "start_time": "2022-11-04T09:26:20.345350",
     "status": "completed"
    },
    "tags": []
   },
   "outputs": [
    {
     "data": {
      "image/png": "[encoded data removed]",
      "text/plain": [
       "<Figure size 720x576 with 1 Axes>"
      ]
     },
     "metadata": {
      "needs_background": "light"
     },
     "output_type": "display_data"
    }
   ],
   "source": [
    "ax,fig=plt.subplots(figsize=(10,8))\n",
    "ax1=plt.bar(data['DayMins'],data['DayCalls'])\n",
    "#x shows number of mins spend on calls and y represents number of calls in the day."
   ]
  },
  {
   "cell_type": "code",
   "execution_count": 11,
   "id": "fdf918a5",
   "metadata": {
    "execution": {
     "iopub.execute_input": "2022-11-04T09:26:26.798082Z",
     "iopub.status.busy": "2022-11-04T09:26:26.797310Z",
     "iopub.status.idle": "2022-11-04T09:26:26.929663Z",
     "shell.execute_reply": "2022-11-04T09:26:26.928789Z"
    },
    "papermill": {
     "duration": 0.144908,
     "end_time": "2022-11-04T09:26:26.935172",
     "exception": false,
     "start_time": "2022-11-04T09:26:26.790264",
     "status": "completed"
    },
    "tags": []
   },
   "outputs": [
    {
     "data": {
      "image/png": "[encoded data removed]",
      "text/plain": [
       "<Figure size 432x288 with 1 Axes>"
      ]
     },
     "metadata": {
      "needs_background": "light"
     },
     "output_type": "display_data"
    }
   ],
   "source": [
    "data['DataPlan'].value_counts().plot(kind='bar');"
   ]
  },
  {
   "cell_type": "code",
   "execution_count": 12,
   "id": "9a3e7164",
   "metadata": {
    "execution": {
     "iopub.execute_input": "2022-11-04T09:26:26.964552Z",
     "iopub.status.busy": "2022-11-04T09:26:26.963794Z",
     "iopub.status.idle": "2022-11-04T09:26:27.146045Z",
     "shell.execute_reply": "2022-11-04T09:26:27.145243Z"
    },
    "papermill": {
     "duration": 0.197799,
     "end_time": "2022-11-04T09:26:27.148157",
     "exception": false,
     "start_time": "2022-11-04T09:26:26.950358",
     "status": "completed"
    },
    "tags": []
   },
   "outputs": [
    {
     "data": {
      "image/png": "[encoded data removed]",
      "text/plain": [
       "<Figure size 432x288 with 1 Axes>"
      ]
     },
     "metadata": {
      "needs_background": "light"
     },
     "output_type": "display_data"
    }
   ],
   "source": [
    "data['ContractRenewal'].value_counts().plot(kind='bar');"
   ]
  },
  {
   "cell_type": "markdown",
   "id": "b2823621",
   "metadata": {
    "papermill": {
     "duration": 0.006104,
     "end_time": "2022-11-04T09:26:27.160523",
     "exception": false,
     "start_time": "2022-11-04T09:26:27.154419",
     "status": "completed"
    },
    "tags": []
   },
   "source": [
    "## Since the data is already in numerical we dont need to perform any encoding to it. We are set to make a model on this data"
   ]
  },
  {
   "cell_type": "code",
   "execution_count": 13,
   "id": "0c336c41",
   "metadata": {
    "execution": {
     "iopub.execute_input": "2022-11-04T09:26:27.175477Z",
     "iopub.status.busy": "2022-11-04T09:26:27.174495Z",
     "iopub.status.idle": "2022-11-04T09:26:27.179186Z",
     "shell.execute_reply": "2022-11-04T09:26:27.178164Z"
    },
    "papermill": {
     "duration": 0.014561,
     "end_time": "2022-11-04T09:26:27.181444",
     "exception": false,
     "start_time": "2022-11-04T09:26:27.166883",
     "status": "completed"
    },
    "tags": []
   },
   "outputs": [],
   "source": [
    "#making the model"
   ]
  }
 ],
 "metadata": {
  "kernelspec": {
   "display_name": "Python 3",
   "language": "python",
   "name": "python3"
  },
  "language_info": {
   "codemirror_mode": {
    "name": "ipython",
    "version": 3
   },
   "file_extension": ".py",
   "mimetype": "text/x-python",
   "name": "python",
   "nbconvert_exporter": "python",
   "pygments_lexer": "ipython3",
   "version": "3.7.12"
  },
  "papermill": {
   "default_parameters": {},
   "duration": 17.671565,
   "end_time": "2022-11-04T09:26:28.110128",
   "environment_variables": {},
   "exception": null,
   "input_path": "__notebook__.ipynb",
   "output_path": "__notebook__.ipynb",
   "parameters": {},
   "start_time": "2022-11-04T09:26:10.438563",
   "version": "2.3.4"
  }
 },
 "nbformat": 4,
 "nbformat_minor": 5
}
