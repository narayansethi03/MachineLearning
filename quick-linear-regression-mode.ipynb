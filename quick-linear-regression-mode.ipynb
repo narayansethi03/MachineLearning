{
 "cells": [
  {
   "cell_type": "code",
   "execution_count": 1,
   "id": "b90e892a",
   "metadata": {
    "_cell_guid": "b1076dfc-b9ad-4769-8c92-a6c4dae69d19",
    "_uuid": "8f2839f25d086af736a60e9eeb907d3b93b6e0e5",
    "execution": {
     "iopub.execute_input": "2022-12-11T15:13:49.373302Z",
     "iopub.status.busy": "2022-12-11T15:13:49.372176Z",
     "iopub.status.idle": "2022-12-11T15:13:50.710236Z",
     "shell.execute_reply": "2022-12-11T15:13:50.708989Z"
    },
    "papermill": {
     "duration": 1.347718,
     "end_time": "2022-12-11T15:13:50.713488",
     "exception": false,
     "start_time": "2022-12-11T15:13:49.365770",
     "status": "completed"
    },
    "tags": []
   },
   "outputs": [],
   "source": [
    "from sklearn.model_selection import train_test_split\n",
    "from sklearn.linear_model import LinearRegression\n",
    "import pandas as pd\n",
    "import numpy as np"
   ]
  },
  {
   "cell_type": "code",
   "execution_count": 2,
   "id": "2f75eb35",
   "metadata": {
    "execution": {
     "iopub.execute_input": "2022-12-11T15:13:50.723136Z",
     "iopub.status.busy": "2022-12-11T15:13:50.721851Z",
     "iopub.status.idle": "2022-12-11T15:13:50.764716Z",
     "shell.execute_reply": "2022-12-11T15:13:50.763463Z"
    },
    "papermill": {
     "duration": 0.050196,
     "end_time": "2022-12-11T15:13:50.767381",
     "exception": false,
     "start_time": "2022-12-11T15:13:50.717185",
     "status": "completed"
    },
    "tags": []
   },
   "outputs": [
    {
     "data": {
      "text/html": [
       "<div>\n",
       "<style scoped>\n",
       "    .dataframe tbody tr th:only-of-type {\n",
       "        vertical-align: middle;\n",
       "    }\n",
       "\n",
       "    .dataframe tbody tr th {\n",
       "        vertical-align: top;\n",
       "    }\n",
       "\n",
       "    .dataframe thead th {\n",
       "        text-align: right;\n",
       "    }\n",
       "</style>\n",
       "<table border=\"1\" class=\"dataframe\">\n",
       "  <thead>\n",
       "    <tr style=\"text-align: right;\">\n",
       "      <th></th>\n",
       "      <th>location</th>\n",
       "      <th>num_rooms</th>\n",
       "      <th>gross</th>\n",
       "      <th>building_age</th>\n",
       "      <th>floor_type</th>\n",
       "      <th>furnishing_status</th>\n",
       "      <th>price</th>\n",
       "    </tr>\n",
       "  </thead>\n",
       "  <tbody>\n",
       "    <tr>\n",
       "      <th>0</th>\n",
       "      <td>merkez</td>\n",
       "      <td>4</td>\n",
       "      <td>135</td>\n",
       "      <td>18</td>\n",
       "      <td>intermediate</td>\n",
       "      <td>0</td>\n",
       "      <td>6000</td>\n",
       "    </tr>\n",
       "    <tr>\n",
       "      <th>1</th>\n",
       "      <td>merkez</td>\n",
       "      <td>2</td>\n",
       "      <td>50</td>\n",
       "      <td>4</td>\n",
       "      <td>intermediate</td>\n",
       "      <td>1</td>\n",
       "      <td>5000</td>\n",
       "    </tr>\n",
       "    <tr>\n",
       "      <th>2</th>\n",
       "      <td>merkez</td>\n",
       "      <td>2</td>\n",
       "      <td>60</td>\n",
       "      <td>0</td>\n",
       "      <td>intermediate</td>\n",
       "      <td>0</td>\n",
       "      <td>6000</td>\n",
       "    </tr>\n",
       "    <tr>\n",
       "      <th>3</th>\n",
       "      <td>merkez</td>\n",
       "      <td>2</td>\n",
       "      <td>55</td>\n",
       "      <td>0</td>\n",
       "      <td>intermediate</td>\n",
       "      <td>0</td>\n",
       "      <td>6000</td>\n",
       "    </tr>\n",
       "    <tr>\n",
       "      <th>4</th>\n",
       "      <td>merkez</td>\n",
       "      <td>2</td>\n",
       "      <td>55</td>\n",
       "      <td>0</td>\n",
       "      <td>intermediate</td>\n",
       "      <td>0</td>\n",
       "      <td>6000</td>\n",
       "    </tr>\n",
       "  </tbody>\n",
       "</table>\n",
       "</div>"
      ],
      "text/plain": [
       "  location  num_rooms  gross  building_age    floor_type  furnishing_status  \\\n",
       "0   merkez          4    135            18  intermediate                  0   \n",
       "1   merkez          2     50             4  intermediate                  1   \n",
       "2   merkez          2     60             0  intermediate                  0   \n",
       "3   merkez          2     55             0  intermediate                  0   \n",
       "4   merkez          2     55             0  intermediate                  0   \n",
       "\n",
       "   price  \n",
       "0   6000  \n",
       "1   5000  \n",
       "2   6000  \n",
       "3   6000  \n",
       "4   6000  "
      ]
     },
     "execution_count": 2,
     "metadata": {},
     "output_type": "execute_result"
    }
   ],
   "source": [
    "df=pd.read_csv('/kaggle/input/house-rent-price-prediction-dataset-for-buca/rent_price_dataset_buca.csv')\n",
    "df.head()"
   ]
  },
  {
   "cell_type": "code",
   "execution_count": 3,
   "id": "3e129d40",
   "metadata": {
    "execution": {
     "iopub.execute_input": "2022-12-11T15:13:50.777462Z",
     "iopub.status.busy": "2022-12-11T15:13:50.776241Z",
     "iopub.status.idle": "2022-12-11T15:13:50.785217Z",
     "shell.execute_reply": "2022-12-11T15:13:50.784192Z"
    },
    "papermill": {
     "duration": 0.016583,
     "end_time": "2022-12-11T15:13:50.787784",
     "exception": false,
     "start_time": "2022-12-11T15:13:50.771201",
     "status": "completed"
    },
    "tags": []
   },
   "outputs": [
    {
     "data": {
      "text/plain": [
       "Index(['location', 'num_rooms', 'gross', 'building_age', 'floor_type',\n",
       "       'furnishing_status', 'price'],\n",
       "      dtype='object')"
      ]
     },
     "execution_count": 3,
     "metadata": {},
     "output_type": "execute_result"
    }
   ],
   "source": [
    "df.columns"
   ]
  },
  {
   "cell_type": "code",
   "execution_count": 4,
   "id": "1590d059",
   "metadata": {
    "execution": {
     "iopub.execute_input": "2022-12-11T15:13:50.797328Z",
     "iopub.status.busy": "2022-12-11T15:13:50.796907Z",
     "iopub.status.idle": "2022-12-11T15:13:50.806241Z",
     "shell.execute_reply": "2022-12-11T15:13:50.805079Z"
    },
    "papermill": {
     "duration": 0.016876,
     "end_time": "2022-12-11T15:13:50.808634",
     "exception": false,
     "start_time": "2022-12-11T15:13:50.791758",
     "status": "completed"
    },
    "tags": []
   },
   "outputs": [
    {
     "data": {
      "text/plain": [
       "location             object\n",
       "num_rooms             int64\n",
       "gross                 int64\n",
       "building_age          int64\n",
       "floor_type           object\n",
       "furnishing_status     int64\n",
       "price                 int64\n",
       "dtype: object"
      ]
     },
     "execution_count": 4,
     "metadata": {},
     "output_type": "execute_result"
    }
   ],
   "source": [
    "df.dtypes"
   ]
  },
  {
   "cell_type": "code",
   "execution_count": 5,
   "id": "e2d26b23",
   "metadata": {
    "execution": {
     "iopub.execute_input": "2022-12-11T15:13:50.818743Z",
     "iopub.status.busy": "2022-12-11T15:13:50.818355Z",
     "iopub.status.idle": "2022-12-11T15:13:50.860179Z",
     "shell.execute_reply": "2022-12-11T15:13:50.858966Z"
    },
    "papermill": {
     "duration": 0.050481,
     "end_time": "2022-12-11T15:13:50.863188",
     "exception": false,
     "start_time": "2022-12-11T15:13:50.812707",
     "status": "completed"
    },
    "tags": []
   },
   "outputs": [
    {
     "data": {
      "text/html": [
       "<div>\n",
       "<style scoped>\n",
       "    .dataframe tbody tr th:only-of-type {\n",
       "        vertical-align: middle;\n",
       "    }\n",
       "\n",
       "    .dataframe tbody tr th {\n",
       "        vertical-align: top;\n",
       "    }\n",
       "\n",
       "    .dataframe thead th {\n",
       "        text-align: right;\n",
       "    }\n",
       "</style>\n",
       "<table border=\"1\" class=\"dataframe\">\n",
       "  <thead>\n",
       "    <tr style=\"text-align: right;\">\n",
       "      <th></th>\n",
       "      <th>location</th>\n",
       "      <th>num_rooms</th>\n",
       "      <th>gross</th>\n",
       "      <th>building_age</th>\n",
       "      <th>floor_type</th>\n",
       "      <th>furnishing_status</th>\n",
       "      <th>price</th>\n",
       "      <th>location_iscievleri</th>\n",
       "      <th>location_merkez</th>\n",
       "      <th>location_sirinyer</th>\n",
       "      <th>floor_type_garden</th>\n",
       "      <th>floor_type_ground</th>\n",
       "      <th>floor_type_intermediate</th>\n",
       "      <th>floor_type_top</th>\n",
       "    </tr>\n",
       "  </thead>\n",
       "  <tbody>\n",
       "    <tr>\n",
       "      <th>0</th>\n",
       "      <td>merkez</td>\n",
       "      <td>4</td>\n",
       "      <td>135</td>\n",
       "      <td>18</td>\n",
       "      <td>intermediate</td>\n",
       "      <td>0</td>\n",
       "      <td>6000</td>\n",
       "      <td>0</td>\n",
       "      <td>1</td>\n",
       "      <td>0</td>\n",
       "      <td>0</td>\n",
       "      <td>0</td>\n",
       "      <td>1</td>\n",
       "      <td>0</td>\n",
       "    </tr>\n",
       "    <tr>\n",
       "      <th>1</th>\n",
       "      <td>merkez</td>\n",
       "      <td>2</td>\n",
       "      <td>50</td>\n",
       "      <td>4</td>\n",
       "      <td>intermediate</td>\n",
       "      <td>1</td>\n",
       "      <td>5000</td>\n",
       "      <td>0</td>\n",
       "      <td>1</td>\n",
       "      <td>0</td>\n",
       "      <td>0</td>\n",
       "      <td>0</td>\n",
       "      <td>1</td>\n",
       "      <td>0</td>\n",
       "    </tr>\n",
       "    <tr>\n",
       "      <th>2</th>\n",
       "      <td>merkez</td>\n",
       "      <td>2</td>\n",
       "      <td>60</td>\n",
       "      <td>0</td>\n",
       "      <td>intermediate</td>\n",
       "      <td>0</td>\n",
       "      <td>6000</td>\n",
       "      <td>0</td>\n",
       "      <td>1</td>\n",
       "      <td>0</td>\n",
       "      <td>0</td>\n",
       "      <td>0</td>\n",
       "      <td>1</td>\n",
       "      <td>0</td>\n",
       "    </tr>\n",
       "    <tr>\n",
       "      <th>3</th>\n",
       "      <td>merkez</td>\n",
       "      <td>2</td>\n",
       "      <td>55</td>\n",
       "      <td>0</td>\n",
       "      <td>intermediate</td>\n",
       "      <td>0</td>\n",
       "      <td>6000</td>\n",
       "      <td>0</td>\n",
       "      <td>1</td>\n",
       "      <td>0</td>\n",
       "      <td>0</td>\n",
       "      <td>0</td>\n",
       "      <td>1</td>\n",
       "      <td>0</td>\n",
       "    </tr>\n",
       "    <tr>\n",
       "      <th>4</th>\n",
       "      <td>merkez</td>\n",
       "      <td>2</td>\n",
       "      <td>55</td>\n",
       "      <td>0</td>\n",
       "      <td>intermediate</td>\n",
       "      <td>0</td>\n",
       "      <td>6000</td>\n",
       "      <td>0</td>\n",
       "      <td>1</td>\n",
       "      <td>0</td>\n",
       "      <td>0</td>\n",
       "      <td>0</td>\n",
       "      <td>1</td>\n",
       "      <td>0</td>\n",
       "    </tr>\n",
       "  </tbody>\n",
       "</table>\n",
       "</div>"
      ],
      "text/plain": [
       "  location  num_rooms  gross  building_age    floor_type  furnishing_status  \\\n",
       "0   merkez          4    135            18  intermediate                  0   \n",
       "1   merkez          2     50             4  intermediate                  1   \n",
       "2   merkez          2     60             0  intermediate                  0   \n",
       "3   merkez          2     55             0  intermediate                  0   \n",
       "4   merkez          2     55             0  intermediate                  0   \n",
       "\n",
       "   price  location_iscievleri  location_merkez  location_sirinyer  \\\n",
       "0   6000                    0                1                  0   \n",
       "1   5000                    0                1                  0   \n",
       "2   6000                    0                1                  0   \n",
       "3   6000                    0                1                  0   \n",
       "4   6000                    0                1                  0   \n",
       "\n",
       "   floor_type_garden  floor_type_ground  floor_type_intermediate  \\\n",
       "0                  0                  0                        1   \n",
       "1                  0                  0                        1   \n",
       "2                  0                  0                        1   \n",
       "3                  0                  0                        1   \n",
       "4                  0                  0                        1   \n",
       "\n",
       "   floor_type_top  \n",
       "0               0  \n",
       "1               0  \n",
       "2               0  \n",
       "3               0  \n",
       "4               0  "
      ]
     },
     "execution_count": 5,
     "metadata": {},
     "output_type": "execute_result"
    }
   ],
   "source": [
    "df_new=pd.get_dummies(df,columns=['location','floor_type'])\n",
    "df_new.reset_index(drop=True)\n",
    "df=df.merge(df_new)\n",
    "#df=df.drop('location',axis=1)\n",
    "#df=df.drop('floor_type',axis=1)\n",
    "df.head()"
   ]
  },
  {
   "cell_type": "code",
   "execution_count": 6,
   "id": "eeea8fb0",
   "metadata": {
    "execution": {
     "iopub.execute_input": "2022-12-11T15:13:50.874006Z",
     "iopub.status.busy": "2022-12-11T15:13:50.873607Z",
     "iopub.status.idle": "2022-12-11T15:13:50.891659Z",
     "shell.execute_reply": "2022-12-11T15:13:50.890339Z"
    },
    "papermill": {
     "duration": 0.026679,
     "end_time": "2022-12-11T15:13:50.894423",
     "exception": false,
     "start_time": "2022-12-11T15:13:50.867744",
     "status": "completed"
    },
    "tags": []
   },
   "outputs": [
    {
     "data": {
      "text/html": [
       "<div>\n",
       "<style scoped>\n",
       "    .dataframe tbody tr th:only-of-type {\n",
       "        vertical-align: middle;\n",
       "    }\n",
       "\n",
       "    .dataframe tbody tr th {\n",
       "        vertical-align: top;\n",
       "    }\n",
       "\n",
       "    .dataframe thead th {\n",
       "        text-align: right;\n",
       "    }\n",
       "</style>\n",
       "<table border=\"1\" class=\"dataframe\">\n",
       "  <thead>\n",
       "    <tr style=\"text-align: right;\">\n",
       "      <th></th>\n",
       "      <th>num_rooms</th>\n",
       "      <th>gross</th>\n",
       "      <th>building_age</th>\n",
       "      <th>furnishing_status</th>\n",
       "      <th>price</th>\n",
       "      <th>location_iscievleri</th>\n",
       "      <th>location_merkez</th>\n",
       "      <th>location_sirinyer</th>\n",
       "      <th>floor_type_garden</th>\n",
       "      <th>floor_type_ground</th>\n",
       "      <th>floor_type_intermediate</th>\n",
       "      <th>floor_type_top</th>\n",
       "    </tr>\n",
       "  </thead>\n",
       "  <tbody>\n",
       "    <tr>\n",
       "      <th>0</th>\n",
       "      <td>4</td>\n",
       "      <td>135</td>\n",
       "      <td>18</td>\n",
       "      <td>0</td>\n",
       "      <td>6000</td>\n",
       "      <td>0</td>\n",
       "      <td>1</td>\n",
       "      <td>0</td>\n",
       "      <td>0</td>\n",
       "      <td>0</td>\n",
       "      <td>1</td>\n",
       "      <td>0</td>\n",
       "    </tr>\n",
       "    <tr>\n",
       "      <th>1</th>\n",
       "      <td>2</td>\n",
       "      <td>50</td>\n",
       "      <td>4</td>\n",
       "      <td>1</td>\n",
       "      <td>5000</td>\n",
       "      <td>0</td>\n",
       "      <td>1</td>\n",
       "      <td>0</td>\n",
       "      <td>0</td>\n",
       "      <td>0</td>\n",
       "      <td>1</td>\n",
       "      <td>0</td>\n",
       "    </tr>\n",
       "    <tr>\n",
       "      <th>2</th>\n",
       "      <td>2</td>\n",
       "      <td>60</td>\n",
       "      <td>0</td>\n",
       "      <td>0</td>\n",
       "      <td>6000</td>\n",
       "      <td>0</td>\n",
       "      <td>1</td>\n",
       "      <td>0</td>\n",
       "      <td>0</td>\n",
       "      <td>0</td>\n",
       "      <td>1</td>\n",
       "      <td>0</td>\n",
       "    </tr>\n",
       "    <tr>\n",
       "      <th>3</th>\n",
       "      <td>2</td>\n",
       "      <td>55</td>\n",
       "      <td>0</td>\n",
       "      <td>0</td>\n",
       "      <td>6000</td>\n",
       "      <td>0</td>\n",
       "      <td>1</td>\n",
       "      <td>0</td>\n",
       "      <td>0</td>\n",
       "      <td>0</td>\n",
       "      <td>1</td>\n",
       "      <td>0</td>\n",
       "    </tr>\n",
       "    <tr>\n",
       "      <th>4</th>\n",
       "      <td>2</td>\n",
       "      <td>55</td>\n",
       "      <td>0</td>\n",
       "      <td>0</td>\n",
       "      <td>6000</td>\n",
       "      <td>0</td>\n",
       "      <td>1</td>\n",
       "      <td>0</td>\n",
       "      <td>0</td>\n",
       "      <td>0</td>\n",
       "      <td>1</td>\n",
       "      <td>0</td>\n",
       "    </tr>\n",
       "  </tbody>\n",
       "</table>\n",
       "</div>"
      ],
      "text/plain": [
       "   num_rooms  gross  building_age  furnishing_status  price  \\\n",
       "0          4    135            18                  0   6000   \n",
       "1          2     50             4                  1   5000   \n",
       "2          2     60             0                  0   6000   \n",
       "3          2     55             0                  0   6000   \n",
       "4          2     55             0                  0   6000   \n",
       "\n",
       "   location_iscievleri  location_merkez  location_sirinyer  floor_type_garden  \\\n",
       "0                    0                1                  0                  0   \n",
       "1                    0                1                  0                  0   \n",
       "2                    0                1                  0                  0   \n",
       "3                    0                1                  0                  0   \n",
       "4                    0                1                  0                  0   \n",
       "\n",
       "   floor_type_ground  floor_type_intermediate  floor_type_top  \n",
       "0                  0                        1               0  \n",
       "1                  0                        1               0  \n",
       "2                  0                        1               0  \n",
       "3                  0                        1               0  \n",
       "4                  0                        1               0  "
      ]
     },
     "execution_count": 6,
     "metadata": {},
     "output_type": "execute_result"
    }
   ],
   "source": [
    "df=df.drop('location',axis=1)\n",
    "df=df.drop('floor_type',axis=1)\n",
    "df.head()"
   ]
  },
  {
   "cell_type": "code",
   "execution_count": 7,
   "id": "b1993b23",
   "metadata": {
    "execution": {
     "iopub.execute_input": "2022-12-11T15:13:50.905580Z",
     "iopub.status.busy": "2022-12-11T15:13:50.905153Z",
     "iopub.status.idle": "2022-12-11T15:13:50.917912Z",
     "shell.execute_reply": "2022-12-11T15:13:50.916518Z"
    },
    "papermill": {
     "duration": 0.021413,
     "end_time": "2022-12-11T15:13:50.920581",
     "exception": false,
     "start_time": "2022-12-11T15:13:50.899168",
     "status": "completed"
    },
    "tags": []
   },
   "outputs": [
    {
     "data": {
      "text/plain": [
       "(30, 118, 30, 118)"
      ]
     },
     "execution_count": 7,
     "metadata": {},
     "output_type": "execute_result"
    }
   ],
   "source": [
    "#making model\n",
    "model=LinearRegression()\n",
    "x=df.drop(\"price\",axis=1)\n",
    "y=df[\"price\"]\n",
    "x_train,x_test,y_train,y_test=train_test_split(x,y,test_size=0.2,random_state=42)\n",
    "len(x_test),len(x_train),len(y_test) ,len(y_train)"
   ]
  },
  {
   "cell_type": "code",
   "execution_count": 8,
   "id": "53a1f793",
   "metadata": {
    "execution": {
     "iopub.execute_input": "2022-12-11T15:13:50.932079Z",
     "iopub.status.busy": "2022-12-11T15:13:50.931606Z",
     "iopub.status.idle": "2022-12-11T15:13:50.965446Z",
     "shell.execute_reply": "2022-12-11T15:13:50.963909Z"
    },
    "papermill": {
     "duration": 0.042987,
     "end_time": "2022-12-11T15:13:50.968273",
     "exception": false,
     "start_time": "2022-12-11T15:13:50.925286",
     "status": "completed"
    },
    "tags": []
   },
   "outputs": [
    {
     "data": {
      "text/plain": [
       "(30, 30)"
      ]
     },
     "execution_count": 8,
     "metadata": {},
     "output_type": "execute_result"
    }
   ],
   "source": [
    "model.fit(x_train,y_train)\n",
    "y_preds=model.predict(x_test)\n",
    "len(y_preds),len(y_test)"
   ]
  },
  {
   "cell_type": "code",
   "execution_count": 9,
   "id": "409b070e",
   "metadata": {
    "execution": {
     "iopub.execute_input": "2022-12-11T15:13:50.979592Z",
     "iopub.status.busy": "2022-12-11T15:13:50.979140Z",
     "iopub.status.idle": "2022-12-11T15:13:50.987994Z",
     "shell.execute_reply": "2022-12-11T15:13:50.986663Z"
    },
    "papermill": {
     "duration": 0.017784,
     "end_time": "2022-12-11T15:13:50.990713",
     "exception": false,
     "start_time": "2022-12-11T15:13:50.972929",
     "status": "completed"
    },
    "tags": []
   },
   "outputs": [
    {
     "data": {
      "text/plain": [
       "0.466540374689156"
      ]
     },
     "execution_count": 9,
     "metadata": {},
     "output_type": "execute_result"
    }
   ],
   "source": [
    "from sklearn.metrics import r2_score,mean_absolute_error\n",
    "r2_score(y_test,y_preds)"
   ]
  },
  {
   "cell_type": "code",
   "execution_count": null,
   "id": "90f12743",
   "metadata": {
    "papermill": {
     "duration": 0.004449,
     "end_time": "2022-12-11T15:13:50.999925",
     "exception": false,
     "start_time": "2022-12-11T15:13:50.995476",
     "status": "completed"
    },
    "tags": []
   },
   "outputs": [],
   "source": []
  }
 ],
 "metadata": {
  "kernelspec": {
   "display_name": "Python 3",
   "language": "python",
   "name": "python3"
  },
  "language_info": {
   "codemirror_mode": {
    "name": "ipython",
    "version": 3
   },
   "file_extension": ".py",
   "mimetype": "text/x-python",
   "name": "python",
   "nbconvert_exporter": "python",
   "pygments_lexer": "ipython3",
   "version": "3.7.12"
  },
  "papermill": {
   "default_parameters": {},
   "duration": 14.1319,
   "end_time": "2022-12-11T15:13:51.828348",
   "environment_variables": {},
   "exception": null,
   "input_path": "__notebook__.ipynb",
   "output_path": "__notebook__.ipynb",
   "parameters": {},
   "start_time": "2022-12-11T15:13:37.696448",
   "version": "2.3.4"
  }
 },
 "nbformat": 4,
 "nbformat_minor": 5
}
